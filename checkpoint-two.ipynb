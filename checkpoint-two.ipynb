{
    "cells": [
        {
            "attachments": {},
            "cell_type": "markdown",
            "metadata": {
                "azdata_cell_guid": "151601c9-ca7a-412e-af80-c62a87e0837e"
            },
            "source": [
                "# Checkpoint Two: Exploratory Data Analysis\n",
                "\n",
                "Now that your chosen dataset is approved, it is time to start working on your analysis. Use this notebook to perform your EDA and make notes where directed to as you work.\n",
                "\n",
                "## Getting Started\n",
                "\n",
                "Since we have not provided your dataset for you, you will need to load the necessary files in this repository. Make sure to include a link back to the original dataset here as well.\n",
                "\n",
                "My dataset: https://www.kaggle.com/datasets/dharun4772/doordash-eta-prediction\n",
                "\n",
                "Your first task in EDA is to import necessary libraries and create a dataframe(s). Make note in the form of code comments of what your thought process is as you work on this setup task."
            ]
        },
        {
            "cell_type": "code",
            "execution_count": 2,
            "metadata": {
                "azdata_cell_guid": "7b503e37-6df5-4433-acfb-678b1346db14"
            },
            "outputs": [],
            "source": [
                "# Import the appropriate libraries with aliases\n",
                "import pandas as pd\n",
                "import matplotlib \n",
                "import matplotlib.pyplot as plt\n",
                "import numpy as np\n",
                "\n",
                "# Create a new dataframe by reading the csv\n",
                "df = pd.read_csv(\"DoorDash.csv\")"
            ]
        },
        {
            "attachments": {},
            "cell_type": "markdown",
            "metadata": {
                "azdata_cell_guid": "129ce836-524b-4ea8-b394-a959f9308d6a"
            },
            "source": [
                "## Get to Know the Numbers\n",
                "\n",
                "Now that you have everything setup, put any code that you use to get to know the dataframe and its rows and columns better in the cell below. You can use whatever techniques you like, except for visualizations. You will put those in a separate section.\n",
                "\n",
                "When working on your code, make sure to leave comments so that your mentors can understand your thought process."
            ]
        },
        {
            "cell_type": "code",
            "execution_count": 3,
            "metadata": {
                "azdata_cell_guid": "0ca2d318-f6e8-43ef-a33e-5304d24d928d",
                "tags": []
            },
            "outputs": [
                {
                    "data": {
                        "text/html": [
                            "<div>\n",
                            "<style scoped>\n",
                            "    .dataframe tbody tr th:only-of-type {\n",
                            "        vertical-align: middle;\n",
                            "    }\n",
                            "\n",
                            "    .dataframe tbody tr th {\n",
                            "        vertical-align: top;\n",
                            "    }\n",
                            "\n",
                            "    .dataframe thead th {\n",
                            "        text-align: right;\n",
                            "    }\n",
                            "</style>\n",
                            "<table border=\"1\" class=\"dataframe\">\n",
                            "  <thead>\n",
                            "    <tr style=\"text-align: right;\">\n",
                            "      <th></th>\n",
                            "      <th>market_id</th>\n",
                            "      <th>created_at</th>\n",
                            "      <th>actual_delivery_time</th>\n",
                            "      <th>store_id</th>\n",
                            "      <th>store_primary_category</th>\n",
                            "      <th>order_protocol</th>\n",
                            "      <th>total_items</th>\n",
                            "      <th>subtotal</th>\n",
                            "      <th>num_distinct_items</th>\n",
                            "      <th>min_item_price</th>\n",
                            "      <th>max_item_price</th>\n",
                            "      <th>total_onshift_dashers</th>\n",
                            "      <th>total_busy_dashers</th>\n",
                            "      <th>total_outstanding_orders</th>\n",
                            "      <th>estimated_order_place_duration</th>\n",
                            "      <th>estimated_store_to_consumer_driving_duration</th>\n",
                            "    </tr>\n",
                            "  </thead>\n",
                            "  <tbody>\n",
                            "    <tr>\n",
                            "      <th>0</th>\n",
                            "      <td>1.0</td>\n",
                            "      <td>2015-02-06 22:24:17</td>\n",
                            "      <td>2015-02-06 23:27:16</td>\n",
                            "      <td>1845</td>\n",
                            "      <td>american</td>\n",
                            "      <td>1.0</td>\n",
                            "      <td>4</td>\n",
                            "      <td>3441</td>\n",
                            "      <td>4</td>\n",
                            "      <td>557</td>\n",
                            "      <td>1239</td>\n",
                            "      <td>33.0</td>\n",
                            "      <td>14.0</td>\n",
                            "      <td>21.0</td>\n",
                            "      <td>446</td>\n",
                            "      <td>861.0</td>\n",
                            "    </tr>\n",
                            "    <tr>\n",
                            "      <th>1</th>\n",
                            "      <td>2.0</td>\n",
                            "      <td>2015-02-10 21:49:25</td>\n",
                            "      <td>2015-02-10 22:56:29</td>\n",
                            "      <td>5477</td>\n",
                            "      <td>mexican</td>\n",
                            "      <td>2.0</td>\n",
                            "      <td>1</td>\n",
                            "      <td>1900</td>\n",
                            "      <td>1</td>\n",
                            "      <td>1400</td>\n",
                            "      <td>1400</td>\n",
                            "      <td>1.0</td>\n",
                            "      <td>2.0</td>\n",
                            "      <td>2.0</td>\n",
                            "      <td>446</td>\n",
                            "      <td>690.0</td>\n",
                            "    </tr>\n",
                            "    <tr>\n",
                            "      <th>2</th>\n",
                            "      <td>3.0</td>\n",
                            "      <td>2015-01-22 20:39:28</td>\n",
                            "      <td>2015-01-22 21:09:09</td>\n",
                            "      <td>5477</td>\n",
                            "      <td>NaN</td>\n",
                            "      <td>1.0</td>\n",
                            "      <td>1</td>\n",
                            "      <td>1900</td>\n",
                            "      <td>1</td>\n",
                            "      <td>1900</td>\n",
                            "      <td>1900</td>\n",
                            "      <td>1.0</td>\n",
                            "      <td>0.0</td>\n",
                            "      <td>0.0</td>\n",
                            "      <td>446</td>\n",
                            "      <td>690.0</td>\n",
                            "    </tr>\n",
                            "    <tr>\n",
                            "      <th>3</th>\n",
                            "      <td>3.0</td>\n",
                            "      <td>2015-02-03 21:21:45</td>\n",
                            "      <td>2015-02-03 22:13:00</td>\n",
                            "      <td>5477</td>\n",
                            "      <td>NaN</td>\n",
                            "      <td>1.0</td>\n",
                            "      <td>6</td>\n",
                            "      <td>6900</td>\n",
                            "      <td>5</td>\n",
                            "      <td>600</td>\n",
                            "      <td>1800</td>\n",
                            "      <td>1.0</td>\n",
                            "      <td>1.0</td>\n",
                            "      <td>2.0</td>\n",
                            "      <td>446</td>\n",
                            "      <td>289.0</td>\n",
                            "    </tr>\n",
                            "    <tr>\n",
                            "      <th>4</th>\n",
                            "      <td>3.0</td>\n",
                            "      <td>2015-02-15 02:40:36</td>\n",
                            "      <td>2015-02-15 03:20:26</td>\n",
                            "      <td>5477</td>\n",
                            "      <td>NaN</td>\n",
                            "      <td>1.0</td>\n",
                            "      <td>3</td>\n",
                            "      <td>3900</td>\n",
                            "      <td>3</td>\n",
                            "      <td>1100</td>\n",
                            "      <td>1600</td>\n",
                            "      <td>6.0</td>\n",
                            "      <td>6.0</td>\n",
                            "      <td>9.0</td>\n",
                            "      <td>446</td>\n",
                            "      <td>650.0</td>\n",
                            "    </tr>\n",
                            "  </tbody>\n",
                            "</table>\n",
                            "</div>"
                        ],
                        "text/plain": [
                            "   market_id           created_at actual_delivery_time  store_id  \\\n",
                            "0        1.0  2015-02-06 22:24:17  2015-02-06 23:27:16      1845   \n",
                            "1        2.0  2015-02-10 21:49:25  2015-02-10 22:56:29      5477   \n",
                            "2        3.0  2015-01-22 20:39:28  2015-01-22 21:09:09      5477   \n",
                            "3        3.0  2015-02-03 21:21:45  2015-02-03 22:13:00      5477   \n",
                            "4        3.0  2015-02-15 02:40:36  2015-02-15 03:20:26      5477   \n",
                            "\n",
                            "  store_primary_category  order_protocol  total_items  subtotal  \\\n",
                            "0               american             1.0            4      3441   \n",
                            "1                mexican             2.0            1      1900   \n",
                            "2                    NaN             1.0            1      1900   \n",
                            "3                    NaN             1.0            6      6900   \n",
                            "4                    NaN             1.0            3      3900   \n",
                            "\n",
                            "   num_distinct_items  min_item_price  max_item_price  total_onshift_dashers  \\\n",
                            "0                   4             557            1239                   33.0   \n",
                            "1                   1            1400            1400                    1.0   \n",
                            "2                   1            1900            1900                    1.0   \n",
                            "3                   5             600            1800                    1.0   \n",
                            "4                   3            1100            1600                    6.0   \n",
                            "\n",
                            "   total_busy_dashers  total_outstanding_orders  \\\n",
                            "0                14.0                      21.0   \n",
                            "1                 2.0                       2.0   \n",
                            "2                 0.0                       0.0   \n",
                            "3                 1.0                       2.0   \n",
                            "4                 6.0                       9.0   \n",
                            "\n",
                            "   estimated_order_place_duration  \\\n",
                            "0                             446   \n",
                            "1                             446   \n",
                            "2                             446   \n",
                            "3                             446   \n",
                            "4                             446   \n",
                            "\n",
                            "   estimated_store_to_consumer_driving_duration  \n",
                            "0                                         861.0  \n",
                            "1                                         690.0  \n",
                            "2                                         690.0  \n",
                            "3                                         289.0  \n",
                            "4                                         650.0  "
                        ]
                    },
                    "execution_count": 3,
                    "metadata": {},
                    "output_type": "execute_result"
                }
            ],
            "source": [
                "# Sneak Peek of Data (First Five)\n",
                "\n",
                "df.head(5)"
            ]
        },
        {
            "cell_type": "code",
            "execution_count": 4,
            "metadata": {},
            "outputs": [
                {
                    "name": "stdout",
                    "output_type": "stream",
                    "text": [
                        "<class 'pandas.core.frame.DataFrame'>\n",
                        "RangeIndex: 197428 entries, 0 to 197427\n",
                        "Data columns (total 16 columns):\n",
                        " #   Column                                        Non-Null Count   Dtype  \n",
                        "---  ------                                        --------------   -----  \n",
                        " 0   market_id                                     196441 non-null  float64\n",
                        " 1   created_at                                    197428 non-null  object \n",
                        " 2   actual_delivery_time                          197421 non-null  object \n",
                        " 3   store_id                                      197428 non-null  int64  \n",
                        " 4   store_primary_category                        192668 non-null  object \n",
                        " 5   order_protocol                                196433 non-null  float64\n",
                        " 6   total_items                                   197428 non-null  int64  \n",
                        " 7   subtotal                                      197428 non-null  int64  \n",
                        " 8   num_distinct_items                            197428 non-null  int64  \n",
                        " 9   min_item_price                                197428 non-null  int64  \n",
                        " 10  max_item_price                                197428 non-null  int64  \n",
                        " 11  total_onshift_dashers                         181166 non-null  float64\n",
                        " 12  total_busy_dashers                            181166 non-null  float64\n",
                        " 13  total_outstanding_orders                      181166 non-null  float64\n",
                        " 14  estimated_order_place_duration                197428 non-null  int64  \n",
                        " 15  estimated_store_to_consumer_driving_duration  196902 non-null  float64\n",
                        "dtypes: float64(6), int64(7), object(3)\n",
                        "memory usage: 24.1+ MB\n"
                    ]
                }
            ],
            "source": [
                "# Look at the columns and their datatypes, non-null counts and names using the infor function\n",
                "\n",
                "df.info()"
            ]
        },
        {
            "cell_type": "code",
            "execution_count": 5,
            "metadata": {},
            "outputs": [
                {
                    "data": {
                        "text/html": [
                            "<div>\n",
                            "<style scoped>\n",
                            "    .dataframe tbody tr th:only-of-type {\n",
                            "        vertical-align: middle;\n",
                            "    }\n",
                            "\n",
                            "    .dataframe tbody tr th {\n",
                            "        vertical-align: top;\n",
                            "    }\n",
                            "\n",
                            "    .dataframe thead th {\n",
                            "        text-align: right;\n",
                            "    }\n",
                            "</style>\n",
                            "<table border=\"1\" class=\"dataframe\">\n",
                            "  <thead>\n",
                            "    <tr style=\"text-align: right;\">\n",
                            "      <th></th>\n",
                            "      <th>market_id</th>\n",
                            "      <th>store_id</th>\n",
                            "      <th>order_protocol</th>\n",
                            "      <th>total_items</th>\n",
                            "      <th>subtotal</th>\n",
                            "      <th>num_distinct_items</th>\n",
                            "      <th>min_item_price</th>\n",
                            "      <th>max_item_price</th>\n",
                            "      <th>total_onshift_dashers</th>\n",
                            "      <th>total_busy_dashers</th>\n",
                            "      <th>total_outstanding_orders</th>\n",
                            "      <th>estimated_order_place_duration</th>\n",
                            "      <th>estimated_store_to_consumer_driving_duration</th>\n",
                            "    </tr>\n",
                            "  </thead>\n",
                            "  <tbody>\n",
                            "    <tr>\n",
                            "      <th>count</th>\n",
                            "      <td>196441.000000</td>\n",
                            "      <td>197428.000000</td>\n",
                            "      <td>196433.000000</td>\n",
                            "      <td>197428.000000</td>\n",
                            "      <td>197428.000000</td>\n",
                            "      <td>197428.000000</td>\n",
                            "      <td>197428.000000</td>\n",
                            "      <td>197428.000000</td>\n",
                            "      <td>181166.000000</td>\n",
                            "      <td>181166.000000</td>\n",
                            "      <td>181166.000000</td>\n",
                            "      <td>197428.000000</td>\n",
                            "      <td>196902.000000</td>\n",
                            "    </tr>\n",
                            "    <tr>\n",
                            "      <th>mean</th>\n",
                            "      <td>2.978706</td>\n",
                            "      <td>3530.510272</td>\n",
                            "      <td>2.882352</td>\n",
                            "      <td>3.196391</td>\n",
                            "      <td>2682.331402</td>\n",
                            "      <td>2.670791</td>\n",
                            "      <td>686.218470</td>\n",
                            "      <td>1159.588630</td>\n",
                            "      <td>44.808093</td>\n",
                            "      <td>41.739747</td>\n",
                            "      <td>58.050065</td>\n",
                            "      <td>308.560179</td>\n",
                            "      <td>545.358935</td>\n",
                            "    </tr>\n",
                            "    <tr>\n",
                            "      <th>std</th>\n",
                            "      <td>1.524867</td>\n",
                            "      <td>2053.496711</td>\n",
                            "      <td>1.503771</td>\n",
                            "      <td>2.666546</td>\n",
                            "      <td>1823.093688</td>\n",
                            "      <td>1.630255</td>\n",
                            "      <td>522.038648</td>\n",
                            "      <td>558.411377</td>\n",
                            "      <td>34.526783</td>\n",
                            "      <td>32.145733</td>\n",
                            "      <td>52.661830</td>\n",
                            "      <td>90.139653</td>\n",
                            "      <td>219.352902</td>\n",
                            "    </tr>\n",
                            "    <tr>\n",
                            "      <th>min</th>\n",
                            "      <td>1.000000</td>\n",
                            "      <td>1.000000</td>\n",
                            "      <td>1.000000</td>\n",
                            "      <td>1.000000</td>\n",
                            "      <td>0.000000</td>\n",
                            "      <td>1.000000</td>\n",
                            "      <td>-86.000000</td>\n",
                            "      <td>0.000000</td>\n",
                            "      <td>-4.000000</td>\n",
                            "      <td>-5.000000</td>\n",
                            "      <td>-6.000000</td>\n",
                            "      <td>0.000000</td>\n",
                            "      <td>0.000000</td>\n",
                            "    </tr>\n",
                            "    <tr>\n",
                            "      <th>25%</th>\n",
                            "      <td>2.000000</td>\n",
                            "      <td>1686.000000</td>\n",
                            "      <td>1.000000</td>\n",
                            "      <td>2.000000</td>\n",
                            "      <td>1400.000000</td>\n",
                            "      <td>1.000000</td>\n",
                            "      <td>299.000000</td>\n",
                            "      <td>800.000000</td>\n",
                            "      <td>17.000000</td>\n",
                            "      <td>15.000000</td>\n",
                            "      <td>17.000000</td>\n",
                            "      <td>251.000000</td>\n",
                            "      <td>382.000000</td>\n",
                            "    </tr>\n",
                            "    <tr>\n",
                            "      <th>50%</th>\n",
                            "      <td>3.000000</td>\n",
                            "      <td>3592.000000</td>\n",
                            "      <td>3.000000</td>\n",
                            "      <td>3.000000</td>\n",
                            "      <td>2200.000000</td>\n",
                            "      <td>2.000000</td>\n",
                            "      <td>595.000000</td>\n",
                            "      <td>1095.000000</td>\n",
                            "      <td>37.000000</td>\n",
                            "      <td>34.000000</td>\n",
                            "      <td>41.000000</td>\n",
                            "      <td>251.000000</td>\n",
                            "      <td>544.000000</td>\n",
                            "    </tr>\n",
                            "    <tr>\n",
                            "      <th>75%</th>\n",
                            "      <td>4.000000</td>\n",
                            "      <td>5299.000000</td>\n",
                            "      <td>4.000000</td>\n",
                            "      <td>4.000000</td>\n",
                            "      <td>3395.000000</td>\n",
                            "      <td>3.000000</td>\n",
                            "      <td>949.000000</td>\n",
                            "      <td>1395.000000</td>\n",
                            "      <td>65.000000</td>\n",
                            "      <td>62.000000</td>\n",
                            "      <td>85.000000</td>\n",
                            "      <td>446.000000</td>\n",
                            "      <td>702.000000</td>\n",
                            "    </tr>\n",
                            "    <tr>\n",
                            "      <th>max</th>\n",
                            "      <td>6.000000</td>\n",
                            "      <td>6987.000000</td>\n",
                            "      <td>7.000000</td>\n",
                            "      <td>411.000000</td>\n",
                            "      <td>27100.000000</td>\n",
                            "      <td>20.000000</td>\n",
                            "      <td>14700.000000</td>\n",
                            "      <td>14700.000000</td>\n",
                            "      <td>171.000000</td>\n",
                            "      <td>154.000000</td>\n",
                            "      <td>285.000000</td>\n",
                            "      <td>2715.000000</td>\n",
                            "      <td>2088.000000</td>\n",
                            "    </tr>\n",
                            "  </tbody>\n",
                            "</table>\n",
                            "</div>"
                        ],
                        "text/plain": [
                            "           market_id       store_id  order_protocol    total_items  \\\n",
                            "count  196441.000000  197428.000000   196433.000000  197428.000000   \n",
                            "mean        2.978706    3530.510272        2.882352       3.196391   \n",
                            "std         1.524867    2053.496711        1.503771       2.666546   \n",
                            "min         1.000000       1.000000        1.000000       1.000000   \n",
                            "25%         2.000000    1686.000000        1.000000       2.000000   \n",
                            "50%         3.000000    3592.000000        3.000000       3.000000   \n",
                            "75%         4.000000    5299.000000        4.000000       4.000000   \n",
                            "max         6.000000    6987.000000        7.000000     411.000000   \n",
                            "\n",
                            "            subtotal  num_distinct_items  min_item_price  max_item_price  \\\n",
                            "count  197428.000000       197428.000000   197428.000000   197428.000000   \n",
                            "mean     2682.331402            2.670791      686.218470     1159.588630   \n",
                            "std      1823.093688            1.630255      522.038648      558.411377   \n",
                            "min         0.000000            1.000000      -86.000000        0.000000   \n",
                            "25%      1400.000000            1.000000      299.000000      800.000000   \n",
                            "50%      2200.000000            2.000000      595.000000     1095.000000   \n",
                            "75%      3395.000000            3.000000      949.000000     1395.000000   \n",
                            "max     27100.000000           20.000000    14700.000000    14700.000000   \n",
                            "\n",
                            "       total_onshift_dashers  total_busy_dashers  total_outstanding_orders  \\\n",
                            "count          181166.000000       181166.000000             181166.000000   \n",
                            "mean               44.808093           41.739747                 58.050065   \n",
                            "std                34.526783           32.145733                 52.661830   \n",
                            "min                -4.000000           -5.000000                 -6.000000   \n",
                            "25%                17.000000           15.000000                 17.000000   \n",
                            "50%                37.000000           34.000000                 41.000000   \n",
                            "75%                65.000000           62.000000                 85.000000   \n",
                            "max               171.000000          154.000000                285.000000   \n",
                            "\n",
                            "       estimated_order_place_duration  \\\n",
                            "count                   197428.000000   \n",
                            "mean                       308.560179   \n",
                            "std                         90.139653   \n",
                            "min                          0.000000   \n",
                            "25%                        251.000000   \n",
                            "50%                        251.000000   \n",
                            "75%                        446.000000   \n",
                            "max                       2715.000000   \n",
                            "\n",
                            "       estimated_store_to_consumer_driving_duration  \n",
                            "count                                 196902.000000  \n",
                            "mean                                     545.358935  \n",
                            "std                                      219.352902  \n",
                            "min                                        0.000000  \n",
                            "25%                                      382.000000  \n",
                            "50%                                      544.000000  \n",
                            "75%                                      702.000000  \n",
                            "max                                     2088.000000  "
                        ]
                    },
                    "execution_count": 5,
                    "metadata": {},
                    "output_type": "execute_result"
                }
            ],
            "source": [
                "# Look at the summary statistics of the dataset\n",
                "\n",
                "df.describe()"
            ]
        },
        {
            "cell_type": "code",
            "execution_count": 6,
            "metadata": {},
            "outputs": [
                {
                    "name": "stdout",
                    "output_type": "stream",
                    "text": [
                        "The number of rows in this dataset is 197428. \n",
                        "There are 16 columns.\n"
                    ]
                }
            ],
            "source": [
                "# Look at the shape of the dataset\n",
                "df.shape\n",
                "\n",
                "print(f\"The number of rows in this dataset is {df.shape[0]}. \\nThere are {df.shape[1]} columns.\")"
            ]
        },
        {
            "cell_type": "code",
            "execution_count": 7,
            "metadata": {},
            "outputs": [
                {
                    "data": {
                        "text/plain": [
                            "Index(['market_id', 'created_at', 'actual_delivery_time', 'store_id',\n",
                            "       'store_primary_category', 'order_protocol', 'total_items', 'subtotal',\n",
                            "       'num_distinct_items', 'min_item_price', 'max_item_price',\n",
                            "       'total_onshift_dashers', 'total_busy_dashers',\n",
                            "       'total_outstanding_orders', 'estimated_order_place_duration',\n",
                            "       'estimated_store_to_consumer_driving_duration'],\n",
                            "      dtype='object')"
                        ]
                    },
                    "execution_count": 7,
                    "metadata": {},
                    "output_type": "execute_result"
                }
            ],
            "source": [
                "# List Column Names\n",
                "\n",
                "df.columns"
            ]
        },
        {
            "cell_type": "code",
            "execution_count": 8,
            "metadata": {},
            "outputs": [
                {
                    "data": {
                        "text/html": [
                            "<div>\n",
                            "<style scoped>\n",
                            "    .dataframe tbody tr th:only-of-type {\n",
                            "        vertical-align: middle;\n",
                            "    }\n",
                            "\n",
                            "    .dataframe tbody tr th {\n",
                            "        vertical-align: top;\n",
                            "    }\n",
                            "\n",
                            "    .dataframe thead th {\n",
                            "        text-align: right;\n",
                            "    }\n",
                            "</style>\n",
                            "<table border=\"1\" class=\"dataframe\">\n",
                            "  <thead>\n",
                            "    <tr style=\"text-align: right;\">\n",
                            "      <th></th>\n",
                            "      <th>market_id</th>\n",
                            "      <th>created_at</th>\n",
                            "      <th>actual_delivery_time</th>\n",
                            "      <th>store_id</th>\n",
                            "      <th>store_primary_category</th>\n",
                            "      <th>order_protocol</th>\n",
                            "      <th>total_items</th>\n",
                            "      <th>subtotal</th>\n",
                            "      <th>num_distinct_items</th>\n",
                            "      <th>min_item_price</th>\n",
                            "      <th>max_item_price</th>\n",
                            "      <th>total_onshift_dashers</th>\n",
                            "      <th>total_busy_dashers</th>\n",
                            "      <th>total_outstanding_orders</th>\n",
                            "      <th>estimated_order_place_duration</th>\n",
                            "      <th>estimated_store_to_consumer_driving_duration</th>\n",
                            "    </tr>\n",
                            "  </thead>\n",
                            "  <tbody>\n",
                            "    <tr>\n",
                            "      <th>0</th>\n",
                            "      <td>False</td>\n",
                            "      <td>False</td>\n",
                            "      <td>False</td>\n",
                            "      <td>False</td>\n",
                            "      <td>False</td>\n",
                            "      <td>False</td>\n",
                            "      <td>False</td>\n",
                            "      <td>False</td>\n",
                            "      <td>False</td>\n",
                            "      <td>False</td>\n",
                            "      <td>False</td>\n",
                            "      <td>False</td>\n",
                            "      <td>False</td>\n",
                            "      <td>False</td>\n",
                            "      <td>False</td>\n",
                            "      <td>False</td>\n",
                            "    </tr>\n",
                            "    <tr>\n",
                            "      <th>1</th>\n",
                            "      <td>False</td>\n",
                            "      <td>False</td>\n",
                            "      <td>False</td>\n",
                            "      <td>False</td>\n",
                            "      <td>False</td>\n",
                            "      <td>False</td>\n",
                            "      <td>False</td>\n",
                            "      <td>False</td>\n",
                            "      <td>False</td>\n",
                            "      <td>False</td>\n",
                            "      <td>False</td>\n",
                            "      <td>False</td>\n",
                            "      <td>False</td>\n",
                            "      <td>False</td>\n",
                            "      <td>False</td>\n",
                            "      <td>False</td>\n",
                            "    </tr>\n",
                            "    <tr>\n",
                            "      <th>2</th>\n",
                            "      <td>False</td>\n",
                            "      <td>False</td>\n",
                            "      <td>False</td>\n",
                            "      <td>False</td>\n",
                            "      <td>True</td>\n",
                            "      <td>False</td>\n",
                            "      <td>False</td>\n",
                            "      <td>False</td>\n",
                            "      <td>False</td>\n",
                            "      <td>False</td>\n",
                            "      <td>False</td>\n",
                            "      <td>False</td>\n",
                            "      <td>False</td>\n",
                            "      <td>False</td>\n",
                            "      <td>False</td>\n",
                            "      <td>False</td>\n",
                            "    </tr>\n",
                            "    <tr>\n",
                            "      <th>3</th>\n",
                            "      <td>False</td>\n",
                            "      <td>False</td>\n",
                            "      <td>False</td>\n",
                            "      <td>False</td>\n",
                            "      <td>True</td>\n",
                            "      <td>False</td>\n",
                            "      <td>False</td>\n",
                            "      <td>False</td>\n",
                            "      <td>False</td>\n",
                            "      <td>False</td>\n",
                            "      <td>False</td>\n",
                            "      <td>False</td>\n",
                            "      <td>False</td>\n",
                            "      <td>False</td>\n",
                            "      <td>False</td>\n",
                            "      <td>False</td>\n",
                            "    </tr>\n",
                            "    <tr>\n",
                            "      <th>4</th>\n",
                            "      <td>False</td>\n",
                            "      <td>False</td>\n",
                            "      <td>False</td>\n",
                            "      <td>False</td>\n",
                            "      <td>True</td>\n",
                            "      <td>False</td>\n",
                            "      <td>False</td>\n",
                            "      <td>False</td>\n",
                            "      <td>False</td>\n",
                            "      <td>False</td>\n",
                            "      <td>False</td>\n",
                            "      <td>False</td>\n",
                            "      <td>False</td>\n",
                            "      <td>False</td>\n",
                            "      <td>False</td>\n",
                            "      <td>False</td>\n",
                            "    </tr>\n",
                            "    <tr>\n",
                            "      <th>...</th>\n",
                            "      <td>...</td>\n",
                            "      <td>...</td>\n",
                            "      <td>...</td>\n",
                            "      <td>...</td>\n",
                            "      <td>...</td>\n",
                            "      <td>...</td>\n",
                            "      <td>...</td>\n",
                            "      <td>...</td>\n",
                            "      <td>...</td>\n",
                            "      <td>...</td>\n",
                            "      <td>...</td>\n",
                            "      <td>...</td>\n",
                            "      <td>...</td>\n",
                            "      <td>...</td>\n",
                            "      <td>...</td>\n",
                            "      <td>...</td>\n",
                            "    </tr>\n",
                            "    <tr>\n",
                            "      <th>197423</th>\n",
                            "      <td>False</td>\n",
                            "      <td>False</td>\n",
                            "      <td>False</td>\n",
                            "      <td>False</td>\n",
                            "      <td>False</td>\n",
                            "      <td>False</td>\n",
                            "      <td>False</td>\n",
                            "      <td>False</td>\n",
                            "      <td>False</td>\n",
                            "      <td>False</td>\n",
                            "      <td>False</td>\n",
                            "      <td>False</td>\n",
                            "      <td>False</td>\n",
                            "      <td>False</td>\n",
                            "      <td>False</td>\n",
                            "      <td>False</td>\n",
                            "    </tr>\n",
                            "    <tr>\n",
                            "      <th>197424</th>\n",
                            "      <td>False</td>\n",
                            "      <td>False</td>\n",
                            "      <td>False</td>\n",
                            "      <td>False</td>\n",
                            "      <td>False</td>\n",
                            "      <td>False</td>\n",
                            "      <td>False</td>\n",
                            "      <td>False</td>\n",
                            "      <td>False</td>\n",
                            "      <td>False</td>\n",
                            "      <td>False</td>\n",
                            "      <td>False</td>\n",
                            "      <td>False</td>\n",
                            "      <td>False</td>\n",
                            "      <td>False</td>\n",
                            "      <td>False</td>\n",
                            "    </tr>\n",
                            "    <tr>\n",
                            "      <th>197425</th>\n",
                            "      <td>False</td>\n",
                            "      <td>False</td>\n",
                            "      <td>False</td>\n",
                            "      <td>False</td>\n",
                            "      <td>False</td>\n",
                            "      <td>False</td>\n",
                            "      <td>False</td>\n",
                            "      <td>False</td>\n",
                            "      <td>False</td>\n",
                            "      <td>False</td>\n",
                            "      <td>False</td>\n",
                            "      <td>False</td>\n",
                            "      <td>False</td>\n",
                            "      <td>False</td>\n",
                            "      <td>False</td>\n",
                            "      <td>False</td>\n",
                            "    </tr>\n",
                            "    <tr>\n",
                            "      <th>197426</th>\n",
                            "      <td>False</td>\n",
                            "      <td>False</td>\n",
                            "      <td>False</td>\n",
                            "      <td>False</td>\n",
                            "      <td>False</td>\n",
                            "      <td>False</td>\n",
                            "      <td>False</td>\n",
                            "      <td>False</td>\n",
                            "      <td>False</td>\n",
                            "      <td>False</td>\n",
                            "      <td>False</td>\n",
                            "      <td>False</td>\n",
                            "      <td>False</td>\n",
                            "      <td>False</td>\n",
                            "      <td>False</td>\n",
                            "      <td>False</td>\n",
                            "    </tr>\n",
                            "    <tr>\n",
                            "      <th>197427</th>\n",
                            "      <td>False</td>\n",
                            "      <td>False</td>\n",
                            "      <td>False</td>\n",
                            "      <td>False</td>\n",
                            "      <td>False</td>\n",
                            "      <td>False</td>\n",
                            "      <td>False</td>\n",
                            "      <td>False</td>\n",
                            "      <td>False</td>\n",
                            "      <td>False</td>\n",
                            "      <td>False</td>\n",
                            "      <td>False</td>\n",
                            "      <td>False</td>\n",
                            "      <td>False</td>\n",
                            "      <td>False</td>\n",
                            "      <td>False</td>\n",
                            "    </tr>\n",
                            "  </tbody>\n",
                            "</table>\n",
                            "<p>197428 rows × 16 columns</p>\n",
                            "</div>"
                        ],
                        "text/plain": [
                            "        market_id  created_at  actual_delivery_time  store_id  \\\n",
                            "0           False       False                 False     False   \n",
                            "1           False       False                 False     False   \n",
                            "2           False       False                 False     False   \n",
                            "3           False       False                 False     False   \n",
                            "4           False       False                 False     False   \n",
                            "...           ...         ...                   ...       ...   \n",
                            "197423      False       False                 False     False   \n",
                            "197424      False       False                 False     False   \n",
                            "197425      False       False                 False     False   \n",
                            "197426      False       False                 False     False   \n",
                            "197427      False       False                 False     False   \n",
                            "\n",
                            "        store_primary_category  order_protocol  total_items  subtotal  \\\n",
                            "0                        False           False        False     False   \n",
                            "1                        False           False        False     False   \n",
                            "2                         True           False        False     False   \n",
                            "3                         True           False        False     False   \n",
                            "4                         True           False        False     False   \n",
                            "...                        ...             ...          ...       ...   \n",
                            "197423                   False           False        False     False   \n",
                            "197424                   False           False        False     False   \n",
                            "197425                   False           False        False     False   \n",
                            "197426                   False           False        False     False   \n",
                            "197427                   False           False        False     False   \n",
                            "\n",
                            "        num_distinct_items  min_item_price  max_item_price  \\\n",
                            "0                    False           False           False   \n",
                            "1                    False           False           False   \n",
                            "2                    False           False           False   \n",
                            "3                    False           False           False   \n",
                            "4                    False           False           False   \n",
                            "...                    ...             ...             ...   \n",
                            "197423               False           False           False   \n",
                            "197424               False           False           False   \n",
                            "197425               False           False           False   \n",
                            "197426               False           False           False   \n",
                            "197427               False           False           False   \n",
                            "\n",
                            "        total_onshift_dashers  total_busy_dashers  total_outstanding_orders  \\\n",
                            "0                       False               False                     False   \n",
                            "1                       False               False                     False   \n",
                            "2                       False               False                     False   \n",
                            "3                       False               False                     False   \n",
                            "4                       False               False                     False   \n",
                            "...                       ...                 ...                       ...   \n",
                            "197423                  False               False                     False   \n",
                            "197424                  False               False                     False   \n",
                            "197425                  False               False                     False   \n",
                            "197426                  False               False                     False   \n",
                            "197427                  False               False                     False   \n",
                            "\n",
                            "        estimated_order_place_duration  \\\n",
                            "0                                False   \n",
                            "1                                False   \n",
                            "2                                False   \n",
                            "3                                False   \n",
                            "4                                False   \n",
                            "...                                ...   \n",
                            "197423                           False   \n",
                            "197424                           False   \n",
                            "197425                           False   \n",
                            "197426                           False   \n",
                            "197427                           False   \n",
                            "\n",
                            "        estimated_store_to_consumer_driving_duration  \n",
                            "0                                              False  \n",
                            "1                                              False  \n",
                            "2                                              False  \n",
                            "3                                              False  \n",
                            "4                                              False  \n",
                            "...                                              ...  \n",
                            "197423                                         False  \n",
                            "197424                                         False  \n",
                            "197425                                         False  \n",
                            "197426                                         False  \n",
                            "197427                                         False  \n",
                            "\n",
                            "[197428 rows x 16 columns]"
                        ]
                    },
                    "execution_count": 8,
                    "metadata": {},
                    "output_type": "execute_result"
                }
            ],
            "source": [
                "# Which columns have null values\n",
                "df.isnull()"
            ]
        },
        {
            "cell_type": "code",
            "execution_count": 9,
            "metadata": {},
            "outputs": [
                {
                    "data": {
                        "text/plain": [
                            "total_onshift_dashers                           16262\n",
                            "total_busy_dashers                              16262\n",
                            "total_outstanding_orders                        16262\n",
                            "store_primary_category                           4760\n",
                            "order_protocol                                    995\n",
                            "market_id                                         987\n",
                            "estimated_store_to_consumer_driving_duration      526\n",
                            "actual_delivery_time                                7\n",
                            "created_at                                          0\n",
                            "store_id                                            0\n",
                            "total_items                                         0\n",
                            "subtotal                                            0\n",
                            "num_distinct_items                                  0\n",
                            "min_item_price                                      0\n",
                            "max_item_price                                      0\n",
                            "estimated_order_place_duration                      0\n",
                            "dtype: int64"
                        ]
                    },
                    "execution_count": 9,
                    "metadata": {},
                    "output_type": "execute_result"
                }
            ],
            "source": [
                "# Count the columns total null values - sort amounts by greatest to least\n",
                "\n",
                "df.isnull().sum().sort_values(ascending = False)"
            ]
        },
        {
            "cell_type": "code",
            "execution_count": 10,
            "metadata": {},
            "outputs": [
                {
                    "data": {
                        "text/plain": [
                            "6"
                        ]
                    },
                    "execution_count": 10,
                    "metadata": {},
                    "output_type": "execute_result"
                }
            ],
            "source": [
                "# Count total number of market_ids\n",
                "\n",
                "df['market_id'].nunique()"
            ]
        },
        {
            "cell_type": "code",
            "execution_count": 11,
            "metadata": {},
            "outputs": [
                {
                    "data": {
                        "text/plain": [
                            "6743"
                        ]
                    },
                    "execution_count": 11,
                    "metadata": {},
                    "output_type": "execute_result"
                }
            ],
            "source": [
                "# Count occurrences of store_ids THERE ARE THIS MANY STORES\n",
                "\n",
                "df['store_id'].nunique()"
            ]
        },
        {
            "attachments": {},
            "cell_type": "markdown",
            "metadata": {
                "azdata_cell_guid": "d45060f3-97bc-484a-9ef4-66145bbe9427"
            },
            "source": [
                "## Visualize\n",
                "\n",
                "Create any visualizations for your EDA here. Make note in the form of code comments of what your thought process is for your visualizations."
            ]
        },
        {
            "cell_type": "code",
            "execution_count": 12,
            "metadata": {
                "azdata_cell_guid": "f4565b03-759a-47a8-b58f-01b32a0b4b67"
            },
            "outputs": [
                {
                    "data": {
                        "text/plain": [
                            "array([[<AxesSubplot:title={'center':'market_id'}>]], dtype=object)"
                        ]
                    },
                    "execution_count": 12,
                    "metadata": {},
                    "output_type": "execute_result"
                },
                {
                    "data": {
                        "image/png": "[encoded data removed]",
                        "text/plain": [
                            "<Figure size 640x480 with 1 Axes>"
                        ]
                    },
                    "metadata": {},
                    "output_type": "display_data"
                }
            ],
            "source": [
                "# Which markets have the most orders?\n",
                "df.hist('market_id')"
            ]
        },
        {
            "cell_type": "code",
            "execution_count": 13,
            "metadata": {
                "azdata_cell_guid": "cd64bab1-db4c-4295-820d-c6464b653a3e"
            },
            "outputs": [
                {
                    "data": {
                        "text/plain": [
                            "array([[<AxesSubplot:title={'center':'num_distinct_items'}>]],\n",
                            "      dtype=object)"
                        ]
                    },
                    "execution_count": 13,
                    "metadata": {},
                    "output_type": "execute_result"
                },
                {
                    "data": {
                        "image/png": "[encoded data removed]",
                        "text/plain": [
                            "<Figure size 640x480 with 1 Axes>"
                        ]
                    },
                    "metadata": {},
                    "output_type": "display_data"
                }
            ],
            "source": [
                "# How many items do most orders have?\n",
                "df.hist(column=\"num_distinct_items\")"
            ]
        },
        {
            "cell_type": "code",
            "execution_count": 14,
            "metadata": {},
            "outputs": [
                {
                    "data": {
                        "text/plain": [
                            "<AxesSubplot:xlabel='store_id', ylabel='subtotal'>"
                        ]
                    },
                    "execution_count": 14,
                    "metadata": {},
                    "output_type": "execute_result"
                },
                {
                    "data": {
                        "image/png": "[encoded data removed]",
                        "text/plain": [
                            "<Figure size 640x480 with 1 Axes>"
                        ]
                    },
                    "metadata": {},
                    "output_type": "display_data"
                }
            ],
            "source": [
                "# Visualize outliers in subtotal by store\n",
                "\n",
                "df.plot.scatter(x='store_id',y='subtotal')"
            ]
        },
        {
            "cell_type": "code",
            "execution_count": 15,
            "metadata": {},
            "outputs": [
                {
                    "data": {
                        "text/plain": [
                            "<AxesSubplot:xlabel='market_id', ylabel='subtotal'>"
                        ]
                    },
                    "execution_count": 15,
                    "metadata": {},
                    "output_type": "execute_result"
                },
                {
                    "data": {
                        "image/png": "[encoded data removed]",
                        "text/plain": [
                            "<Figure size 640x480 with 1 Axes>"
                        ]
                    },
                    "metadata": {},
                    "output_type": "display_data"
                }
            ],
            "source": [
                "# Visualize outliers in the markets\n",
                "\n",
                "df.plot.scatter(x=\"market_id\",y=\"subtotal\")"
            ]
        },
        {
            "cell_type": "code",
            "execution_count": 17,
            "metadata": {},
            "outputs": [
                {
                    "data": {
                        "text/plain": [
                            "<AxesSubplot:>"
                        ]
                    },
                    "execution_count": 17,
                    "metadata": {},
                    "output_type": "execute_result"
                },
                {
                    "data": {
                        "image/png": "[encoded data removed]",
                        "text/plain": [
                            "<Figure size 640x480 with 1 Axes>"
                        ]
                    },
                    "metadata": {},
                    "output_type": "display_data"
                }
            ],
            "source": [
                "df['market_id'].value_counts().plot(kind='bar')"
            ]
        },
        {
            "cell_type": "markdown",
            "metadata": {
                "azdata_cell_guid": "d4931c0c-2c09-4ee1-95d4-73dd08c2f0a6"
            },
            "source": [
                "## Summarize Your Results\n",
                "\n",
                "With your EDA complete, answer the following questions.\n",
                "\n",
                "1. Was there anything surprising about your dataset? \n",
                "2. Do you have any concerns about your dataset? \n",
                "3. Is there anything you want to make note of for the next phase of your analysis, which is cleaning data? "
            ]
        },
        {
            "cell_type": "markdown",
            "metadata": {},
            "source": [
                "1. I was surprised at how much information I could find out during the initial eda like which market has the most orders and where outliers are in the markets and individual stores.\n",
                "2. I have concerns about some nulls and some re-formatting of columns and some irrelevant information.\n",
                "3. I want to remove the unnecessary columns about drivers and extract the specific day of the week from the date timestamp to find out which day of the week gets the most order profit."
            ]
        }
    ],
    "metadata": {
        "kernelspec": {
            "display_name": "Python 3",
            "language": "python",
            "name": "python3"
        },
        "language_info": {
            "codemirror_mode": {
                "name": "ipython",
                "version": 3
            },
            "file_extension": ".py",
            "mimetype": "text/x-python",
            "name": "python",
            "nbconvert_exporter": "python",
            "pygments_lexer": "ipython3",
            "version": "3.10.3"
        }
    },
    "nbformat": 4,
    "nbformat_minor": 2
}
